{
 "cells": [
  {
   "cell_type": "markdown",
   "metadata": {},
   "source": [
    "<h3>Design Problem 3.20</h3>"
   ]
  },
  {
   "cell_type": "code",
   "execution_count": 19,
   "metadata": {},
   "outputs": [],
   "source": [
    "import numpy as np\n",
    "import matplotlib.pyplot as plt\n",
    "import math\n",
    "%matplotlib inline"
   ]
  },
  {
   "cell_type": "markdown",
   "metadata": {},
   "source": [
    "<h3>Part A </h3>"
   ]
  },
  {
   "cell_type": "code",
   "execution_count": 158,
   "metadata": {},
   "outputs": [],
   "source": [
    "#function to calculate orbital elements of transfer orbit\n",
    "def classical(Le, Lm, L_A, r1, r2, s_u, TA_e, TA_m):\n",
    "    TA = (Lm-Le)+L_A #true anomaly\n",
    "    e = (r2-r1)/((r1*math.cos(math.radians(L_A))-(r2*math.cos(math.radians(TA))))) #eccentricity\n",
    "    e = abs(e) #converting to absolute value\n",
    "    Rp = (r1*(1+e*math.cos(math.radians(L_A))))/(1+e) #pariapsis radius\n",
    "    a = Rp/(1-e)\n",
    "    n = math.sqrt(s_u/a**3) #mean motion\n",
    "    E_e = math.acos((e+math.cos(TA_e))/(1+e*math.cos(TA_e))) #Eccentric anomaly of earth - use radians!!!\n",
    "    E_m = math.acos((e+math.cos(TA_m))/(1+e*math.cos(TA_m))) #Eccentric anomaly of mars -use radians!!!\n",
    "    t_e = ((E_e-e*math.sin(E_e))/n) #Time since periapsis earth (radians)\n",
    "    t_m = ((E_m-e*math.sin(E_m))/n) #Time since periapsis mars (radians)\n",
    "    d_t = abs(t_m-t_e)/60/60/24\n",
    "    #P = 2*math.pi*(math.sqrt((a**3)/(s_u)))\n",
    "    #ToT = (P/2)/60/60/24 #half period is time of transfer\n",
    "    print(\"True Anomaly:\", TA,\"\\n\" \"Eccentricity:\", e,\"\\n\"  \"Pariapsis Radius(Km):\", Rp,\"\\n\"  \"Semi-Major Axis(Km):\", a,\"\\n\"  \"Mean motion:\", n,\"\\n\" \n",
    "        \"E of earth (Rad):\", E_e,\"\\n\"  \"E of mars (Rad):\", E_m,\"\\n\"  \"Time since periapsis Earth (sec):\", t_e,\"\\n\"  \"Time since periabsis Mars(sec): \", t_m,\"\\n\"\n",
    "         \"Time delta (days): \", d_t)\n",
    "    return TA, e, Rp, a, n, E_e, t_e, E_m, t_m "
   ]
  },
  {
   "cell_type": "code",
   "execution_count": 159,
   "metadata": {},
   "outputs": [
    {
     "name": "stdout",
     "output_type": "stream",
     "text": [
      "True Anomaly: 230.58100000000002 \n",
      "Eccentricity: 0.35400789235383057 \n",
      "Pariapsis Radius(Km): 118325391.5313255 \n",
      "Semi-Major Axis(Km): 183168478.57858986 \n",
      "Mean motion: 1.4695342405855563e-07 \n",
      "E of earth (Rad): 3.062832070989705 \n",
      "E of mars (Rad): 0.7323120734287157 \n",
      "Time since periapsis Earth (sec): 20652659.438982114 \n",
      "Time since periabsis Mars(sec):  3372671.8156756684 \n",
      "Time delta (days):  199.999856751232\n"
     ]
    },
    {
     "data": {
      "text/plain": [
       "(230.58100000000002,\n",
       " 0.35400789235383057,\n",
       " 118325391.5313255,\n",
       " 183168478.57858986,\n",
       " 1.4695342405855563e-07,\n",
       " 3.062832070989705,\n",
       " 20652659.438982114,\n",
       " 0.7323120734287157,\n",
       " 3372671.8156756684)"
      ]
     },
     "execution_count": 159,
     "metadata": {},
     "output_type": "execute_result"
    }
   ],
   "source": [
    "#TOF = 200 days\n",
    "Le = 181.44 #earth longitude at launch\n",
    "Lm = 333.221 #mars longitude at launch\n",
    "L_A = 78.80 #Arbitrary line of apsides for testing purposes\n",
    "r1 = 149905909.7 #earth radius(units - Km)\n",
    "r2 = 206671197  #mars radius (units - Km)\n",
    "s_u = 132712439935.5#standard gravitaional parameter of the sun\n",
    "TA_e = 78.4854\n",
    "TA_m = 357.128\n",
    "\n",
    "classical(Le, Lm, L_A, r1, r2, s_u, TA_e, TA_m) #execute function"
   ]
  },
  {
   "cell_type": "code",
   "execution_count": null,
   "metadata": {},
   "outputs": [],
   "source": []
  }
 ],
 "metadata": {
  "kernelspec": {
   "display_name": "Python 3",
   "language": "python",
   "name": "python3"
  },
  "language_info": {
   "codemirror_mode": {
    "name": "ipython",
    "version": 3
   },
   "file_extension": ".py",
   "mimetype": "text/x-python",
   "name": "python",
   "nbconvert_exporter": "python",
   "pygments_lexer": "ipython3",
   "version": "3.6.10"
  }
 },
 "nbformat": 4,
 "nbformat_minor": 4
}
