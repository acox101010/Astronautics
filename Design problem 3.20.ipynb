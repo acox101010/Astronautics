{
 "cells": [
  {
   "cell_type": "markdown",
   "metadata": {},
   "source": [
    "<h3>University of Arkansas MEEG 5523 - Design Problem 3.20</h3>\n",
    "<h4>Andrew Cox, Student ID: 010960557</h4>"
   ]
  },
  {
   "cell_type": "code",
   "execution_count": 1,
   "metadata": {},
   "outputs": [],
   "source": [
    "import numpy as np\n",
    "import matplotlib.pyplot as plt\n",
    "import math\n",
    "%matplotlib inline"
   ]
  },
  {
   "cell_type": "markdown",
   "metadata": {},
   "source": [
    "<h3>Part A - Transfer ellipse; line of apsides; eccentricity; semi-major axis</h3>"
   ]
  },
  {
   "cell_type": "code",
   "execution_count": 2,
   "metadata": {},
   "outputs": [],
   "source": [
    "#function to calculate orbital elements of transfer orbit\n",
    "def classical(Le, Lm, L_A, r1, r2, s_u):\n",
    "    theta_1 = Le-L_A #true anomaly angle\n",
    "    theta_2 = Lm-L_A\n",
    "    e = (r2-r1)/((r1*math.cos(math.radians(theta_1))-(r2*math.cos(math.radians(theta_2))))) #eccentricity\n",
    "    Rp = (r1*(1+e*math.cos(math.radians(theta_1))))/(1+e) #pariapsis radius\n",
    "    a = Rp/(1-e)\n",
    "    Ra = a*(1+e)\n",
    "    n = math.sqrt(s_u/a**3)\n",
    "    T_R_1 = math.radians(theta_1) #convert to radians\n",
    "    T_R_2 = math.radians(theta_2) #convert to radians\n",
    "    E_e = math.acos((e+math.cos(T_R_1))/(1+e*math.cos(T_R_1))) #Eccentric anomaly of earth - use radians!!!\n",
    "    E_m = math.acos((e+math.cos(T_R_2))/(1+e*math.cos(T_R_2))) #Eccentric anomaly of mars -use radians!!!\n",
    "    t_e = ((E_e-e*math.sin(E_e))/n) #Time since periapsis earth (radians)\n",
    "    t_m = ((E_m-e*math.sin(E_m))/n) #Time since periapsis mars (radians)\n",
    "    t_t = abs(t_m-t_e)\n",
    "    \n",
    "    s = (\n",
    "        f\"Line of Apsides: {L_A} \"\"\\n\"\n",
    "        f\"Theta Earth: {theta_1} \"\"\\n\"\n",
    "        f\"Theta Mars: {theta_2} \"\"\\n\"\n",
    "        f\"Eccentricity: {e} \"\"\\n\"\n",
    "        f\"Pariapsis Radius(Km): {Rp} \"\"\\n\"\n",
    "        f\"Semi-Major Axis(Km): {a} \"\"\\n\"\n",
    "        f\"Mean Motion: {n} \"\"\\n\"\n",
    "        f\"Apoapsis Radius(km): {Ra} \"\"\\n\"\n",
    "        f\"E of Earth (Rad): {E_e} \"\"\\n\"\n",
    "        f\"E of Mars (Rad): {E_m} \"\"\\n\"\n",
    "        f\"Time since periapsis Earth (sec): {t_e} \"\"\\n\"\n",
    "        f\"Time since periapsis Mars (sec): {t_m} \"\"\\n\"\n",
    "        f\"Time delta (days): {t_t/60/60/24} \"\"\\n\"\n",
    "    )\n",
    "    \n",
    "    print(s) \n",
    "    \n",
    "    return theta_1, theta_2, e, Rp, a, n, E_e, t_e, E_m, t_m,"
   ]
  },
  {
   "cell_type": "code",
   "execution_count": 3,
   "metadata": {},
   "outputs": [
    {
     "name": "stdout",
     "output_type": "stream",
     "text": [
      "Line of Apsides: 166 \n",
      "Theta Earth: 15.439999999999998 \n",
      "Theta Mars: 167.221 \n",
      "Eccentricity: 0.1640388502630138 \n",
      "Pariapsis Radius(Km): 149143501.477836 \n",
      "Semi-Major Axis(Km): 178409608.5383396 \n",
      "Mean Motion: 1.5287217917912887e-07 \n",
      "Apoapsis Radius(km): 207675715.59884325 \n",
      "E of Earth (Rad): 0.22875661090182522 \n",
      "E of Mars (Rad): 2.878831224562419 \n",
      "Time since periapsis Earth (sec): 1253060.321038305 \n",
      "Time since periapsis Mars (sec): 18552901.162651394 \n",
      "Time delta (days): 200.22963937052188 \n",
      "\n"
     ]
    },
    {
     "data": {
      "text/plain": [
       "(15.439999999999998,\n",
       " 167.221,\n",
       " 0.1640388502630138,\n",
       " 149143501.477836,\n",
       " 178409608.5383396,\n",
       " 1.5287217917912887e-07,\n",
       " 0.22875661090182522,\n",
       " 1253060.321038305,\n",
       " 2.878831224562419,\n",
       " 18552901.162651394)"
      ]
     },
     "execution_count": 3,
     "metadata": {},
     "output_type": "execute_result"
    }
   ],
   "source": [
    "#TOF = 200 days\n",
    "Le = 181.44 #earth longitude at launch\n",
    "Lm = 333.221 #mars longitude at launch\n",
    "L_A = 166 #Arbitrary line of apsides for testing purposes\n",
    "r1 = 149905909.7 #earth radius(units - Km)\n",
    "r2 = 206671197  #mars radius (units - Km)\n",
    "s_u = 132712439935.5 #standard gravitaional parameter of the sun\n",
    "\n",
    "\n",
    "classical(Le, Lm, L_A, r1, r2, s_u) #execute function\n"
   ]
  },
  {
   "cell_type": "markdown",
   "metadata": {},
   "source": [
    "<h3>Part B - Inclination of Transfer Ellipse - ecliptic plane</h3>"
   ]
  },
  {
   "cell_type": "code",
   "execution_count": 4,
   "metadata": {},
   "outputs": [],
   "source": [
    "def transferinc(i_m, A_n, Le, Lm):\n",
    "    alpha = 180-i_m\n",
    "    a = (A_n+180)-Le\n",
    "    b = Lm-(A_n+180)\n",
    "    c1 = (math.cos(math.radians(a))) * (math.cos(math.radians(b))) + (math.sin(math.radians(a))) * (math.sin(math.radians(b))) * (math.sin(math.radians(alpha)))\n",
    "    c = math.degrees(math.acos(c1))\n",
    "    i_t = math.degrees(math.asin(((math.sin(math.radians(alpha)))*(math.sin(math.radians(b))))/(math.sin(math.radians(c)))))\n",
    "    \n",
    "    print(\"Inclination Transfer Plane (i_t): \", i_t)\n",
    "    return c1, c, i_t\n"
   ]
  },
  {
   "cell_type": "code",
   "execution_count": 5,
   "metadata": {},
   "outputs": [
    {
     "name": "stdout",
     "output_type": "stream",
     "text": [
      "Inclination Transfer Plane (i_t):  1.8138431228720644\n"
     ]
    },
    {
     "data": {
      "text/plain": [
       "(-0.13413457794911957, 97.70857971339184, 1.8138431228720644)"
      ]
     },
     "execution_count": 5,
     "metadata": {},
     "output_type": "execute_result"
    }
   ],
   "source": [
    "i_m = 1.8497 #Mars orbital plane inclination\n",
    "A_n = 49.572 #Mars longitude of ascending node\n",
    "Le = 181.44 #earth longitude at launch\n",
    "Lm = 333.221 #mars longitude at launch\n",
    "\n",
    "transferinc(i_m, A_n, Le, Lm)"
   ]
  },
  {
   "cell_type": "markdown",
   "metadata": {},
   "source": [
    "<h3>Part C - C3 calculation</h3>"
   ]
  },
  {
   "cell_type": "code",
   "execution_count": 32,
   "metadata": {},
   "outputs": [],
   "source": [
    "def fpa(e, theta_1):\n",
    "    f_ang_t = math.degrees(math.atan(e*math.sin(math.radians(theta_1)))/(1+e*(math.cos(math.radians(theta_1)))))\n",
    "    print(\"flight path angle of transfer: \", f_ang_t)\n",
    "    return f_ang_t\n"
   ]
  },
  {
   "cell_type": "code",
   "execution_count": 68,
   "metadata": {},
   "outputs": [],
   "source": [
    "def newalph(i_t, FA_e, FA_t):\n",
    "    alph_a = math.degrees(math.acos(math.cos(math.radians(i_t))*math.cos(math.radians(FA_e+FA_t))))\n",
    "    print(\"Alpha angle: \", alph_a)\n",
    "    return alph_a"
   ]
  },
  {
   "cell_type": "code",
   "execution_count": 69,
   "metadata": {},
   "outputs": [
    {
     "name": "stdout",
     "output_type": "stream",
     "text": [
      "flight path angle of transfer:  2.1592152875917976\n"
     ]
    },
    {
     "data": {
      "text/plain": [
       "2.1592152875917976"
      ]
     },
     "execution_count": 69,
     "metadata": {},
     "output_type": "execute_result"
    }
   ],
   "source": [
    "theta_1 = 15.439999\n",
    "e = 0.16403885026\n",
    "i_t = 1.813843122872064\n",
    "FA_e = 0.93486\n",
    "\n",
    "fpa(e,theta_1)"
   ]
  },
  {
   "cell_type": "code",
   "execution_count": 70,
   "metadata": {},
   "outputs": [
    {
     "name": "stdout",
     "output_type": "stream",
     "text": [
      "Alpha angle:  3.5861023072075993\n"
     ]
    },
    {
     "data": {
      "text/plain": [
       "3.5861023072075993"
      ]
     },
     "execution_count": 70,
     "metadata": {},
     "output_type": "execute_result"
    }
   ],
   "source": [
    "newalph(i_t, FA_e, FA_t=2.15921528)"
   ]
  },
  {
   "cell_type": "code",
   "execution_count": 75,
   "metadata": {},
   "outputs": [
    {
     "name": "stdout",
     "output_type": "stream",
     "text": [
      "V_s/s: 32.04287908513613 km/s \n",
      " C3:  8.37726136612173 km2/s2 \n",
      " V_HE:  2.8943499038854528 km/s\n"
     ]
    }
   ],
   "source": [
    "V_earth = 29.892\n",
    "mars_r = 206671197\n",
    "mars_a = 227939133\n",
    "craft_r = 149905909.7\n",
    "craft_a = 178409608.5383396\n",
    "alph_a = 3.5861023072075993\n",
    "V_m = math.sqrt(((2*s_u)/(mars_r)) - (s_u/mars_a))\n",
    "V_s = math.sqrt(((2*s_u)/(craft_r)) - (s_u/craft_a))\n",
    "c3 =  (V_earth**2 + V_s**2) - (2*V_earth*V_s*(math.cos(math.radians(alph_a))))\n",
    "V_HE = math.sqrt(c3)\n",
    "print(\"V_s/s:\", V_s, \"km/s\",\"\\n\", \"C3: \", c3, \"km2/s2\", \"\\n\", \"V_HE: \", V_HE, \"km/s\")"
   ]
  },
  {
   "cell_type": "markdown",
   "metadata": {},
   "source": [
    "<h3>Part D - inclination of Transfer Ellipse - Mars plane </h3>"
   ]
  },
  {
   "cell_type": "code",
   "execution_count": 7,
   "metadata": {},
   "outputs": [],
   "source": [
    "#function to calculate orbital elements of transfer orbit\n",
    "def runner(Le, Lm, L_A, r1, r2, s_u):\n",
    "    theta_1 = Le-L_A #true anomaly angle\n",
    "    theta_2 = Lm-L_A\n",
    "    e = (r2-r1)/((r1*math.cos(math.radians(theta_1))-(r2*math.cos(math.radians(theta_2))))) #eccentricity\n",
    "    #e = abs(e) # not sure about this\n",
    "    Rp = (r1*(1+e*math.cos(math.radians(theta_1))))/(1+e) #pariapsis radius\n",
    "    a = Rp/(1-e)\n",
    "    Ra = a*(1+e)\n",
    "    n = math.sqrt(s_u/a**3)\n",
    "    T_R_1 = math.radians(theta_1) #convert to radians\n",
    "    T_R_2 = math.radians(theta_2) #convert to radians\n",
    "    E_e = math.acos((e+math.cos(T_R_1))/(1+e*math.cos(T_R_1))) #Eccentric anomaly of earth - use radians!!!\n",
    "    E_m = math.acos((e+math.cos(T_R_2))/(1+e*math.cos(T_R_2))) #Eccentric anomaly of mars -use radians!!!\n",
    "    t_e = ((E_e-e*math.sin(E_e))/n) #Time since periapsis earth (radians)\n",
    "    t_m = ((E_m-e*math.sin(E_m))/n) #Time since periapsis mars (radians)\n",
    "    t_t = t_m-t_e\n",
    "    print(i,\"Time delta (days): \", t_t/60/60/24)"
   ]
  },
  {
   "cell_type": "code",
   "execution_count": 8,
   "metadata": {},
   "outputs": [
    {
     "name": "stdout",
     "output_type": "stream",
     "text": [
      "1 Time delta (days):  -190.8671848198035\n",
      "2 Time delta (days):  -189.19615351544314\n",
      "3 Time delta (days):  -186.68906695746273\n",
      "4 Time delta (days):  -184.18119429828764\n",
      "5 Time delta (days):  -181.67250276210493\n",
      "6 Time delta (days):  -179.1629613771527\n",
      "7 Time delta (days):  -176.65254084753292\n",
      "8 Time delta (days):  -174.14121343363024\n",
      "9 Time delta (days):  -171.62895284045445\n",
      "10 Time delta (days):  -169.11573411326512\n",
      "11 Time delta (days):  -166.60153353989588\n",
      "12 Time delta (days):  -164.08632855923517\n",
      "13 Time delta (days):  -161.570097675364\n",
      "14 Time delta (days):  -159.05282037688605\n",
      "15 Time delta (days):  -156.53447706101483\n",
      "16 Time delta (days):  -154.01504896201695\n",
      "17 Time delta (days):  -151.49451808362832\n",
      "18 Time delta (days):  -148.97286713508876\n",
      "19 Time delta (days):  -146.45007947045454\n",
      "20 Time delta (days):  -143.92613903086684\n",
      "21 Time delta (days):  -141.4010302894637\n",
      "22 Time delta (days):  -138.87473819863746\n",
      "23 Time delta (days):  -136.3472481393416\n",
      "24 Time delta (days):  -133.81854587215693\n",
      "25 Time delta (days):  -131.28861748982524\n",
      "26 Time delta (days):  -128.75744937095627\n",
      "27 Time delta (days):  -126.22502813460291\n",
      "28 Time delta (days):  -123.69134059538942\n",
      "29 Time delta (days):  -121.15637371885612\n",
      "30 Time delta (days):  -118.6201145766603\n",
      "31 Time delta (days):  -116.08255030123836\n",
      "32 Time delta (days):  -113.54366803949455\n",
      "33 Time delta (days):  -111.00345490502731\n",
      "34 Time delta (days):  -108.46189792833512\n",
      "35 Time delta (days):  -105.9189840043639\n",
      "36 Time delta (days):  -103.3746998366522\n",
      "37 Time delta (days):  -100.82903187719944\n",
      "38 Time delta (days):  -98.28196626102216\n",
      "39 Time delta (days):  -95.7334887341594\n",
      "40 Time delta (days):  -93.18358457363139\n",
      "41 Time delta (days):  -90.6322384975366\n",
      "42 Time delta (days):  -88.07943456306087\n",
      "43 Time delta (days):  -85.52515604965394\n",
      "44 Time delta (days):  -82.9693853239575\n",
      "45 Time delta (days):  -80.4121036822096\n",
      "46 Time delta (days):  -77.85329116472705\n",
      "47 Time delta (days):  -75.2929263355977\n",
      "48 Time delta (days):  -72.73098601877324\n",
      "49 Time delta (days):  -70.16744497916623\n",
      "50 Time delta (days):  -67.60227553387288\n",
      "51 Time delta (days):  -65.03544707391148\n",
      "52 Time delta (days):  -62.46692547036602\n",
      "53 Time delta (days):  -59.896672329782696\n",
      "54 Time delta (days):  -57.32464405094455\n",
      "55 Time delta (days):  -54.75079061697729\n",
      "56 Time delta (days):  -52.17505403042366\n",
      "57 Time delta (days):  -49.59736626016011\n",
      "58 Time delta (days):  -47.01764651093726\n",
      "59 Time delta (days):  -44.43579753753307\n",
      "60 Time delta (days):  -41.85170058685381\n",
      "61 Time delta (days):  -39.265208329569326\n",
      "62 Time delta (days):  -36.67613477865044\n",
      "63 Time delta (days):  -34.08424057578185\n",
      "64 Time delta (days):  -31.48921094740396\n",
      "65 Time delta (days):  -28.89062166775818\n",
      "85 Time delta (days):  22.845859490929545\n",
      "86 Time delta (days):  25.489768532905856\n",
      "87 Time delta (days):  28.13196391099217\n",
      "88 Time delta (days):  30.773428903736235\n",
      "89 Time delta (days):  33.41484433941019\n",
      "90 Time delta (days):  36.0566997692892\n",
      "91 Time delta (days):  38.699359009909635\n",
      "92 Time delta (days):  41.343100536679465\n",
      "93 Time delta (days):  43.988143326361694\n",
      "94 Time delta (days):  46.63466392746889\n",
      "95 Time delta (days):  49.282808053363816\n",
      "96 Time delta (days):  51.9326986496749\n",
      "97 Time delta (days):  54.58444163103903\n",
      "98 Time delta (days):  57.23813004053732\n",
      "99 Time delta (days):  59.89384711917726\n",
      "100 Time delta (days):  62.55166860803367\n",
      "101 Time delta (days):  65.21166450106917\n",
      "102 Time delta (days):  67.87390039875339\n",
      "103 Time delta (days):  70.5384385676197\n",
      "104 Time delta (days):  73.20533878054665\n",
      "105 Time delta (days):  75.8746589917293\n",
      "106 Time delta (days):  78.54645588579884\n",
      "107 Time delta (days):  81.22078533029647\n",
      "108 Time delta (days):  83.89770275337008\n",
      "109 Time delta (days):  86.57726346324704\n",
      "110 Time delta (days):  89.25952292214112\n",
      "111 Time delta (days):  91.94453698437002\n",
      "112 Time delta (days):  94.63236210630726\n",
      "113 Time delta (days):  97.32305553416789\n",
      "114 Time delta (days):  100.01667547439502\n",
      "115 Time delta (days):  102.7132812504719\n",
      "116 Time delta (days):  105.4129334492551\n",
      "117 Time delta (days):  108.11569405936162\n",
      "118 Time delta (days):  110.82162660370562\n",
      "119 Time delta (days):  113.53079626793642\n",
      "120 Time delta (days):  116.24327002625928\n",
      "121 Time delta (days):  118.95911676591408\n",
      "122 Time delta (days):  121.67840741141613\n",
      "123 Time delta (days):  124.40121504953841\n",
      "124 Time delta (days):  127.12761505591192\n",
      "125 Time delta (days):  129.85768522404467\n",
      "126 Time delta (days):  132.5915058975024\n",
      "127 Time delta (days):  135.32916010594917\n",
      "128 Time delta (days):  138.07073370572195\n",
      "129 Time delta (days):  140.8163155255898\n",
      "130 Time delta (days):  143.56599751834474\n",
      "131 Time delta (days):  146.31987491886827\n",
      "132 Time delta (days):  149.07804640932778\n",
      "133 Time delta (days):  151.84061429217087\n",
      "134 Time delta (days):  154.60768467160554\n",
      "135 Time delta (days):  157.3793676442855\n",
      "136 Time delta (days):  160.15577749994875\n",
      "137 Time delta (days):  162.9370329328007\n",
      "138 Time delta (days):  165.72325726447625\n",
      "139 Time delta (days):  168.51457867946942\n",
      "140 Time delta (days):  171.31113047397434\n",
      "141 Time delta (days):  174.11305131914938\n",
      "142 Time delta (days):  176.92048553988818\n",
      "143 Time delta (days):  179.73358341025707\n",
      "144 Time delta (days):  182.5525014668556\n",
      "145 Time delta (days):  185.37740284144328\n",
      "146 Time delta (days):  188.2084576142953\n",
      "147 Time delta (days):  191.0458431898561\n",
      "148 Time delta (days):  193.88974469639948\n",
      "149 Time delta (days):  196.7403554115418\n",
      "150 Time delta (days):  199.59787721561358\n",
      "151 Time delta (days):  202.46252107507053\n",
      "152 Time delta (days):  205.33450755830782\n",
      "153 Time delta (days):  208.21406738646715\n",
      "154 Time delta (days):  208.28884106672157\n",
      "155 Time delta (days):  207.57542787727377\n",
      "156 Time delta (days):  206.87139790845342\n",
      "157 Time delta (days):  206.17614777928839\n",
      "158 Time delta (days):  205.48909958152362\n",
      "159 Time delta (days):  204.80969879446312\n",
      "160 Time delta (days):  204.13741234829146\n",
      "161 Time delta (days):  203.47172682082032\n",
      "162 Time delta (days):  202.81214675407284\n",
      "163 Time delta (days):  202.15819307842187\n",
      "164 Time delta (days):  201.50940163313524\n",
      "165 Time delta (days):  200.86532177318614\n",
      "166 Time delta (days):  200.22551505306183\n",
      "167 Time delta (days):  199.5895539790756\n",
      "168 Time delta (days):  198.9570208223613\n",
      "169 Time delta (days):  198.32750648531012\n",
      "170 Time delta (days):  197.70060941473108\n",
      "171 Time delta (days):  197.0759345554387\n",
      "172 Time delta (days):  196.4530923383628\n",
      "173 Time delta (days):  195.83169769758365\n",
      "174 Time delta (days):  195.21136911095675\n",
      "175 Time delta (days):  194.59172765921366\n",
      "176 Time delta (days):  193.9723960985825\n",
      "177 Time delta (days):  193.35299794209445\n",
      "178 Time delta (days):  192.73315654482383\n",
      "179 Time delta (days):  192.11249418833992\n",
      "180 Time delta (days):  191.4906311596411\n",
      "181 Time delta (days):  190.8671848198035\n",
      "182 Time delta (days):  189.19615351544158\n",
      "183 Time delta (days):  186.6890669574627\n",
      "184 Time delta (days):  184.18119429828766\n",
      "185 Time delta (days):  181.67250276210464\n",
      "186 Time delta (days):  179.16296137715275\n",
      "187 Time delta (days):  176.652540847533\n",
      "188 Time delta (days):  174.14121343363038\n",
      "189 Time delta (days):  171.62895284045433\n",
      "190 Time delta (days):  169.11573411326506\n",
      "191 Time delta (days):  166.60153353989594\n",
      "192 Time delta (days):  164.08632855923517\n",
      "193 Time delta (days):  161.57009767536408\n",
      "194 Time delta (days):  159.05282037688613\n",
      "195 Time delta (days):  156.5344770610149\n",
      "196 Time delta (days):  154.01504896201698\n",
      "197 Time delta (days):  151.4945180836283\n",
      "198 Time delta (days):  148.9728671350887\n",
      "199 Time delta (days):  146.45007947045468\n",
      "200 Time delta (days):  143.92613903086692\n",
      "201 Time delta (days):  141.4010302894637\n",
      "202 Time delta (days):  138.87473819863743\n",
      "203 Time delta (days):  136.3472481393416\n",
      "204 Time delta (days):  133.8185458721569\n",
      "205 Time delta (days):  131.28861748982527\n",
      "206 Time delta (days):  128.75744937095627\n",
      "207 Time delta (days):  126.22502813460284\n",
      "208 Time delta (days):  123.6913405953894\n",
      "209 Time delta (days):  121.15637371885617\n",
      "210 Time delta (days):  118.62011457666034\n",
      "211 Time delta (days):  116.08255030123841\n",
      "212 Time delta (days):  113.5436680394945\n",
      "213 Time delta (days):  111.00345490502735\n",
      "214 Time delta (days):  108.46189792833512\n",
      "215 Time delta (days):  105.91898400436395\n",
      "216 Time delta (days):  103.37469983665221\n",
      "217 Time delta (days):  100.82903187719934\n",
      "218 Time delta (days):  98.2819662610221\n",
      "219 Time delta (days):  95.73348873415944\n",
      "220 Time delta (days):  93.18358457363144\n",
      "221 Time delta (days):  90.63223849753653\n",
      "222 Time delta (days):  88.07943456306087\n",
      "223 Time delta (days):  85.52515604965397\n",
      "224 Time delta (days):  82.9693853239575\n",
      "225 Time delta (days):  80.4121036822096\n",
      "226 Time delta (days):  77.85329116472705\n",
      "227 Time delta (days):  75.29292633559768\n",
      "228 Time delta (days):  72.73098601877321\n",
      "229 Time delta (days):  70.16744497916623\n",
      "230 Time delta (days):  67.60227553387286\n",
      "231 Time delta (days):  65.03544707391157\n",
      "232 Time delta (days):  62.46692547036608\n",
      "233 Time delta (days):  59.896672329782824\n",
      "234 Time delta (days):  57.324644050944585\n",
      "235 Time delta (days):  54.75079061697725\n",
      "236 Time delta (days):  52.17505403042364\n",
      "237 Time delta (days):  49.59736626016011\n",
      "238 Time delta (days):  47.01764651093726\n",
      "239 Time delta (days):  44.43579753753298\n",
      "240 Time delta (days):  41.85170058685389\n",
      "241 Time delta (days):  39.26520832956944\n",
      "242 Time delta (days):  36.676134778650336\n",
      "243 Time delta (days):  34.08424057578177\n",
      "244 Time delta (days):  31.48921094740361\n",
      "245 Time delta (days):  28.89062166775723\n",
      "265 Time delta (days):  -22.845859490928962\n",
      "266 Time delta (days):  -25.4897685329059\n",
      "267 Time delta (days):  -28.131963910992013\n",
      "268 Time delta (days):  -30.773428903736207\n",
      "269 Time delta (days):  -33.41484433941017\n",
      "270 Time delta (days):  -36.056699769289224\n",
      "271 Time delta (days):  -38.699359009909635\n",
      "272 Time delta (days):  -41.343100536679415\n",
      "273 Time delta (days):  -43.98814332636169\n",
      "274 Time delta (days):  -46.634663927468914\n",
      "275 Time delta (days):  -49.28280805336374\n",
      "276 Time delta (days):  -51.932698649674855\n",
      "277 Time delta (days):  -54.58444163103903\n",
      "278 Time delta (days):  -57.23813004053732\n",
      "279 Time delta (days):  -59.89384711917727\n",
      "280 Time delta (days):  -62.55166860803369\n",
      "281 Time delta (days):  -65.21166450106911\n",
      "282 Time delta (days):  -67.87390039875335\n",
      "283 Time delta (days):  -70.53843856761974\n",
      "284 Time delta (days):  -73.20533878054665\n",
      "285 Time delta (days):  -75.87465899172928\n",
      "286 Time delta (days):  -78.54645588579885\n",
      "287 Time delta (days):  -81.22078533029645\n",
      "288 Time delta (days):  -83.89770275337011\n",
      "289 Time delta (days):  -86.57726346324704\n",
      "290 Time delta (days):  -89.25952292214104\n",
      "291 Time delta (days):  -91.94453698436998\n",
      "292 Time delta (days):  -94.6323621063073\n",
      "293 Time delta (days):  -97.3230555341679\n",
      "294 Time delta (days):  -100.01667547439506\n",
      "295 Time delta (days):  -102.7132812504719\n",
      "296 Time delta (days):  -105.41293344925515\n",
      "297 Time delta (days):  -108.11569405936162\n",
      "298 Time delta (days):  -110.82162660370567\n",
      "299 Time delta (days):  -113.53079626793642\n",
      "300 Time delta (days):  -116.24327002625927\n",
      "301 Time delta (days):  -118.95911676591408\n",
      "302 Time delta (days):  -121.67840741141616\n",
      "303 Time delta (days):  -124.40121504953841\n",
      "304 Time delta (days):  -127.12761505591185\n",
      "305 Time delta (days):  -129.85768522404467\n",
      "306 Time delta (days):  -132.5915058975024\n",
      "307 Time delta (days):  -135.32916010594914\n",
      "308 Time delta (days):  -138.07073370572192\n",
      "309 Time delta (days):  -140.8163155255898\n",
      "310 Time delta (days):  -143.5659975183447\n",
      "311 Time delta (days):  -146.31987491886824\n",
      "312 Time delta (days):  -149.07804640932778\n",
      "313 Time delta (days):  -151.84061429217084\n",
      "314 Time delta (days):  -154.60768467160548\n",
      "315 Time delta (days):  -157.37936764428542\n",
      "316 Time delta (days):  -160.15577749994867\n",
      "317 Time delta (days):  -162.93703293280072\n",
      "318 Time delta (days):  -165.72325726447625\n",
      "319 Time delta (days):  -168.51457867946945\n",
      "320 Time delta (days):  -171.31113047397423\n",
      "321 Time delta (days):  -174.11305131914938\n",
      "322 Time delta (days):  -176.9204855398882\n",
      "323 Time delta (days):  -179.7335834102572\n",
      "324 Time delta (days):  -182.5525014668556\n",
      "325 Time delta (days):  -185.37740284144323\n",
      "326 Time delta (days):  -188.20845761429533\n",
      "327 Time delta (days):  -191.0458431898561\n",
      "328 Time delta (days):  -193.8897446963994\n",
      "329 Time delta (days):  -196.7403554115418\n",
      "330 Time delta (days):  -199.59787721561358\n",
      "331 Time delta (days):  -202.4625210750704\n",
      "332 Time delta (days):  -205.3345075583078\n",
      "333 Time delta (days):  -208.21406738646718\n",
      "334 Time delta (days):  -208.28884106672152\n",
      "335 Time delta (days):  -207.57542787727382\n",
      "336 Time delta (days):  -206.87139790845345\n",
      "337 Time delta (days):  -206.17614777928836\n",
      "338 Time delta (days):  -205.48909958152373\n",
      "339 Time delta (days):  -204.80969879446317\n",
      "340 Time delta (days):  -204.1374123482914\n",
      "341 Time delta (days):  -203.4717268208202\n",
      "342 Time delta (days):  -202.8121467540728\n",
      "343 Time delta (days):  -202.15819307842185\n",
      "344 Time delta (days):  -201.50940163313533\n",
      "345 Time delta (days):  -200.8653217731863\n",
      "346 Time delta (days):  -200.2255150530618\n",
      "347 Time delta (days):  -199.58955397907565\n",
      "348 Time delta (days):  -198.9570208223612\n",
      "349 Time delta (days):  -198.32750648531012\n",
      "350 Time delta (days):  -197.70060941473113\n",
      "351 Time delta (days):  -197.0759345554387\n",
      "352 Time delta (days):  -196.45309233836292\n",
      "353 Time delta (days):  -195.83169769758362\n",
      "354 Time delta (days):  -195.21136911095672\n",
      "355 Time delta (days):  -194.59172765921366\n",
      "356 Time delta (days):  -193.9723960985825\n",
      "357 Time delta (days):  -193.3529979420944\n",
      "358 Time delta (days):  -192.7331565448239\n",
      "359 Time delta (days):  -192.11249418833998\n",
      "360 Time delta (days):  -191.49063115964114\n"
     ]
    }
   ],
   "source": [
    "Le = 181.444 #earth longitude at launch\n",
    "Lm = 333.221 #mars longitude at launch\n",
    "L_A = 0 #Arbitrary line of apsides for testing purposes\n",
    "r1 = 149905909.7 #earth radius(units - Km)\n",
    "r2 = 206671197  #mars radius (units - Km)\n",
    "s_u = 132712439935.5 #standard gravitaional parameter of the sun\n",
    "deg = 360\n",
    "\n",
    "lists = []\n",
    "for i in range(1,deg+1):\n",
    "    try:\n",
    "        runner(Le, Lm, i, r1, r2, s_u)\n",
    "        lists.append(i)\n",
    "    except:\n",
    "        pass"
   ]
  },
  {
   "cell_type": "markdown",
   "metadata": {},
   "source": [
    "<h3>PLuto 3.4</h3>"
   ]
  },
  {
   "cell_type": "code",
   "execution_count": 9,
   "metadata": {},
   "outputs": [
    {
     "name": "stdout",
     "output_type": "stream",
     "text": [
      "16.259999999999998 169.66\n",
      "e: 0.9669563506321198\n",
      "Rp: 142709555.51557317\n",
      "a: 4318819447.778455\n",
      "Ra: 8494929340.041337\n",
      "n: 1.2835365624904145e-09\n",
      "eccentric anomaly earth: 0.037027418279923646\n",
      "eccentric anomaly mars: 1.9227267023628314\n",
      "time since periapsis earth (sec): 959615.6974302043\n",
      "time since periapsis pluto (sec): 790811935.5208902\n",
      "total flight time (sec): 789852319.82346 years: 25.04605275949581\n"
     ]
    }
   ],
   "source": [
    "Le = 41.26 #earth longitude at launch\n",
    "Lm = 194.66 #pluto longitude at launch\n",
    "L_A = 25 #Arbitrary line of apsides for testing purposes\n",
    "r1 = 149600000#earth radius(units - Km)\n",
    "r2 = 5917702810  #pluto radius (units - Km)\n",
    "s_u = 132712439935.5#standard gravitaional parameter of the sun\n",
    "\n",
    "\n",
    "theta_1 = Le-L_A #true anomaly angle\n",
    "theta_2 = Lm-L_A\n",
    "e = (r2-r1)/((r1*math.cos(math.radians(theta_1))-(r2*math.cos(math.radians(theta_2))))) #eccentricity\n",
    "Rp = (r1*(1+e*math.cos(math.radians(L_A))))/(1+e) #pariapsis radius\n",
    "a = Rp/(1-e)\n",
    "Ra = a*(1+e)\n",
    "n = math.sqrt(s_u/a**3)\n",
    "T_R_1 = math.radians(theta_1) #convert to radians\n",
    "T_R_2 = math.radians(theta_2) #convert to radians\n",
    "E_e = math.acos((e+math.cos(T_R_1))/(1+e*math.cos(T_R_1))) #Eccentric anomaly of earth - use radians!!!\n",
    "E_p = math.acos((e+math.cos(T_R_2))/(1+e*math.cos(T_R_2))) #Eccentric anomaly of mars -use radians!!!\n",
    "t_e = ((E_e-e*math.sin(E_e))/n) #Time since periapsis earth (radians)\n",
    "t_p = ((E_p-e*math.sin(E_p))/n) #Time since periapsis mars (radians)\n",
    "t_t = t_p-t_e\n",
    "print(theta_1,theta_2)\n",
    "print(\"e:\",e)\n",
    "print(\"Rp:\",Rp)\n",
    "print(\"a:\",a)\n",
    "print(\"Ra:\",Ra)\n",
    "print(\"n:\",n)\n",
    "print(\"eccentric anomaly earth:\", E_e)\n",
    "print(\"eccentric anomaly mars:\", E_p)\n",
    "print(\"time since periapsis earth (sec):\", t_e)\n",
    "print(\"time since periapsis pluto (sec):\", t_p)\n",
    "print(\"total flight time (sec):\", t_t, \"years:\", t_t/60/60/24/365 )"
   ]
  },
  {
   "cell_type": "code",
   "execution_count": null,
   "metadata": {},
   "outputs": [],
   "source": []
  }
 ],
 "metadata": {
  "kernelspec": {
   "display_name": "Python 3",
   "language": "python",
   "name": "python3"
  },
  "language_info": {
   "codemirror_mode": {
    "name": "ipython",
    "version": 3
   },
   "file_extension": ".py",
   "mimetype": "text/x-python",
   "name": "python",
   "nbconvert_exporter": "python",
   "pygments_lexer": "ipython3",
   "version": "3.6.10"
  }
 },
 "nbformat": 4,
 "nbformat_minor": 4
}
